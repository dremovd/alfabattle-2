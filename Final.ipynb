{
 "cells": [
  {
   "cell_type": "code",
   "execution_count": 1,
   "metadata": {},
   "outputs": [],
   "source": [
    "from datetime import datetime \n",
    "\n",
    "start_time = datetime.now() "
   ]
  },
  {
   "cell_type": "code",
   "execution_count": 2,
   "metadata": {},
   "outputs": [],
   "source": [
    "N_JOBS = N_BATCHES = 32"
   ]
  },
  {
   "cell_type": "code",
   "execution_count": 3,
   "metadata": {},
   "outputs": [],
   "source": [
    "from datetime import date\n",
    "from collections import defaultdict\n",
    "from tqdm.notebook import tqdm\n",
    "\n",
    "import pandas as pd\n",
    "import numpy as np\n",
    "import joblib\n",
    "\n"
   ]
  },
  {
   "cell_type": "code",
   "execution_count": 4,
   "metadata": {},
   "outputs": [
    {
     "name": "stdout",
     "output_type": "stream",
     "text": [
      "CPU times: user 11.3 s, sys: 1.34 s, total: 12.6 s\n",
      "Wall time: 12.6 s\n"
     ]
    }
   ],
   "source": [
    "%%time\n",
    "\n",
    "train_target = pd.read_csv('data/alfabattle2_abattle_train_target.csv', parse_dates=['timestamp'])\n",
    "train_target = train_target.sort_values('timestamp')\n",
    "train_target.shape"
   ]
  },
  {
   "cell_type": "code",
   "execution_count": 5,
   "metadata": {},
   "outputs": [
    {
     "data": {
      "text/plain": [
       "(5065350, 4)"
      ]
     },
     "execution_count": 5,
     "metadata": {},
     "output_type": "execute_result"
    }
   ],
   "source": [
    "train_target.shape"
   ]
  },
  {
   "cell_type": "code",
   "execution_count": 6,
   "metadata": {},
   "outputs": [
    {
     "name": "stdout",
     "output_type": "stream",
     "text": [
      "CPU times: user 82 ms, sys: 8.62 ms, total: 90.6 ms\n",
      "Wall time: 87 ms\n"
     ]
    }
   ],
   "source": [
    "%%time\n",
    "\n",
    "test_session = pd.read_csv('data/alfabattle2_prediction_session_timestamp.csv', parse_dates=['timestamp'])\n",
    "test_session = test_session.sort_values('timestamp')"
   ]
  },
  {
   "cell_type": "code",
   "execution_count": 7,
   "metadata": {},
   "outputs": [
    {
     "data": {
      "text/plain": [
       "(79268, 2)"
      ]
     },
     "execution_count": 7,
     "metadata": {},
     "output_type": "execute_result"
    }
   ],
   "source": [
    "test_session.shape"
   ]
  },
  {
   "cell_type": "markdown",
   "metadata": {},
   "source": [
    "# Partitioning for parallel processing"
   ]
  },
  {
   "cell_type": "code",
   "execution_count": 8,
   "metadata": {},
   "outputs": [],
   "source": [
    "def client_sample(data, clients, batch_i, n_jobs, column='client_pin'):\n",
    "    clients_batch = clients[batch_i::n_jobs]\n",
    "    return data[data[column].isin(clients_batch)]"
   ]
  },
  {
   "cell_type": "code",
   "execution_count": 9,
   "metadata": {},
   "outputs": [
    {
     "name": "stdout",
     "output_type": "stream",
     "text": [
      "mkdir: невозможно создать каталог «data/partitioned»: Файл существует\r\n"
     ]
    }
   ],
   "source": [
    "!mkdir data/partitioned"
   ]
  },
  {
   "cell_type": "code",
   "execution_count": 10,
   "metadata": {},
   "outputs": [
    {
     "data": {
      "application/vnd.jupyter.widget-view+json": {
       "model_id": "b93416773b68425ea05c0b2a8e0fd000",
       "version_major": 2,
       "version_minor": 0
      },
      "text/plain": [
       "HBox(children=(FloatProgress(value=0.0, max=32.0), HTML(value='')))"
      ]
     },
     "metadata": {},
     "output_type": "display_data"
    },
    {
     "name": "stdout",
     "output_type": "stream",
     "text": [
      "\n"
     ]
    }
   ],
   "source": [
    "clients = sorted(train_target.client_pin.unique())\n",
    "for partition_i in tqdm(range(N_BATCHES)):\n",
    "    train_sample = client_sample(train_target, clients, partition_i, N_BATCHES)\n",
    "    test_sample = client_sample(test_session, clients, partition_i, N_BATCHES)\n",
    "    joblib.dump((train_sample, test_sample), f'data/partitioned/no_parquet_{partition_i}.dump')\n",
    "\n",
    "    del train_sample\n",
    "    del test_sample    \n",
    "\n",
    "del train_target\n",
    "del test_session"
   ]
  },
  {
   "cell_type": "markdown",
   "metadata": {},
   "source": [
    "# Feature generation "
   ]
  },
  {
   "cell_type": "code",
   "execution_count": 11,
   "metadata": {},
   "outputs": [],
   "source": [
    "def add_timestamp_columns(data):\n",
    "    data['date'] = data['timestamp'].apply(lambda x: x.date())\n",
    "    data['weekday'] = data['date'].apply(lambda x: x.weekday())\n",
    "    data['hour'] = data['timestamp'].apply(lambda x: x.hour)\n",
    "    data['date_i'] = data['date'].apply(lambda x: (x - date(2020, 10, 1)).days)\n",
    "    \n",
    "    return data"
   ]
  },
  {
   "cell_type": "code",
   "execution_count": 12,
   "metadata": {},
   "outputs": [],
   "source": [
    "def load_data(partition_i):\n",
    "    train, test = joblib.load(f'data/partitioned/no_parquet_{partition_i}.dump')\n",
    "    return train, test\n",
    "\n",
    "\n",
    "def get_last_i(s, i):\n",
    "    if s.shape[0] > i:\n",
    "        return s.iloc[-i-1]\n",
    "    else:\n",
    "        return None\n",
    "    \n",
    "    \n",
    "def train_features(client):\n",
    "    \"\"\"This is used per client\"\"\"\n",
    "    features = {\n",
    "        'count': client.shape[0],\n",
    "    }\n",
    "    \n",
    "    for c, tail_size in [\n",
    "        ('multi_class_target', 20),\n",
    "        ('weekday', 1),\n",
    "        ('date_i', 3),\n",
    "    ]:\n",
    "        features.update(dict([(\n",
    "            f'last__{c}__{i}', get_last_i(client[c], i),\n",
    "        ) for i in range(tail_size)]))\n",
    "        \n",
    "    # Histogram over all sessions\n",
    "    for c in [\n",
    "        'hour',\n",
    "        'weekday',\n",
    "        'multi_class_target',\n",
    "    ]:\n",
    "        frequencies = client[c].value_counts(normalize=True).to_dict()\n",
    "        features.update(dict([\n",
    "            (f'{c}__{k}', v)\n",
    "            for k, v in frequencies.items()\n",
    "        ]))\n",
    "        \n",
    "    # Histogram over `tail_size` last sessions\n",
    "    for tail_size in [\n",
    "        10, 20, 40\n",
    "    ]:\n",
    "        for c in [\n",
    "            'multi_class_target',\n",
    "        ]:\n",
    "            frequencies = client[c].tail(tail_size).value_counts(normalize=False).to_dict()\n",
    "            features.update(dict([\n",
    "                (f'tail{tail_size}__{c}__{k}', v)\n",
    "                for k, v in frequencies.items()\n",
    "            ]))\n",
    "    \n",
    "    # Histogram over `day_tail_size` last *days* in client history\n",
    "    for day_tail_size in [\n",
    "        1, 7, 14, 28\n",
    "    ]:\n",
    "        for c in [\n",
    "            'multi_class_target',\n",
    "        ]:\n",
    "            last_date = get_last_i(client['date_i'], 0)\n",
    "            tail = client[client.date_i > (last_date - day_tail_size)][c]\n",
    "            frequencies = tail.value_counts(normalize=True).to_dict()\n",
    "            features.update(dict([\n",
    "                (f'day_tail{day_tail_size}__{c}__{k}', v)\n",
    "                for k, v in frequencies.items()\n",
    "            ]))\n",
    "            \n",
    "            features.update(dict([\n",
    "                (f'day_tail{day_tail_size}__count', tail.shape[0])\n",
    "            ]))\n",
    "\n",
    "    return pd.Series(dict(features))"
   ]
  },
  {
   "cell_type": "code",
   "execution_count": 13,
   "metadata": {},
   "outputs": [],
   "source": [
    "def generate_features(batch_i, client_session_index):\n",
    "    \"\"\"`client_session_index` - is a index of session to predict (starting from last in train set)\n",
    "    client_session_index == -1 is used for test session\n",
    "    \"\"\"\n",
    "    train, test = load_data(batch_i)\n",
    "\n",
    "    train = add_timestamp_columns(train)\n",
    "    test = add_timestamp_columns(test)\n",
    "    \n",
    "    # Needs every client sessions to be sorted ascending\n",
    "    train['client_session_index'] = train.groupby('client_pin').cumcount(ascending=False)\n",
    "\n",
    "    # Only client sessions before prediction used for features\n",
    "    \n",
    "    # This information is from prei\n",
    "    features_prediction_moment = ['weekday', 'hour', 'date_i']\n",
    "    if client_session_index >= 0:\n",
    "        prediction_moment = train[train['client_session_index'] == client_session_index][\n",
    "            ['client_pin', 'multi_class_target'] + features_prediction_moment\n",
    "        ]        \n",
    "    elif client_session_index == -1:\n",
    "        prediction_moment = test[['client_pin'] + features_prediction_moment]\n",
    "    else:\n",
    "        assert client_session_index >= -1\n",
    "    train_mask = train['client_session_index'] > client_session_index\n",
    "    train = train[train_mask]\n",
    "\n",
    "    features = pd.DataFrame(\n",
    "        train.groupby('client_pin').apply(train_features)\n",
    "    )\n",
    "    \n",
    "    features = features.reset_index()\n",
    "    \n",
    "    # This needs because of groupby apply aggregation magic\n",
    "    features = features.pivot(index='client_pin', columns='level_1', values=0)\n",
    "    \n",
    "    features = features.merge(prediction_moment, on='client_pin')\n",
    "    features['client_session_index'] = client_session_index\n",
    "    features['session_delta_date'] = features['date_i'] - features['last__date_i__0']\n",
    "    return features\n",
    "\n",
    "\n",
    "def no_parquet_features_joblib(n_jobs, index):\n",
    "    features_all = joblib.Parallel(n_jobs=n_jobs)(\n",
    "        joblib.delayed(generate_features)(batch_i, index) \n",
    "        for batch_i in range(N_BATCHES)\n",
    "    )\n",
    "    \n",
    "    return pd.concat(features_all, axis=0)"
   ]
  },
  {
   "cell_type": "code",
   "execution_count": 14,
   "metadata": {},
   "outputs": [
    {
     "name": "stdout",
     "output_type": "stream",
     "text": [
      "CPU times: user 1.46 s, sys: 869 ms, total: 2.32 s\n",
      "Wall time: 39 s\n"
     ]
    }
   ],
   "source": [
    "%%time\n",
    "\n",
    "test_features = no_parquet_features_joblib(n_jobs=N_JOBS, index=-1)"
   ]
  },
  {
   "cell_type": "code",
   "execution_count": 15,
   "metadata": {},
   "outputs": [
    {
     "data": {
      "text/plain": [
       "(79268, 146)"
      ]
     },
     "execution_count": 15,
     "metadata": {},
     "output_type": "execute_result"
    }
   ],
   "source": [
    "test_features.shape"
   ]
  },
  {
   "cell_type": "code",
   "execution_count": 16,
   "metadata": {},
   "outputs": [
    {
     "data": {
      "text/plain": [
       "146"
      ]
     },
     "execution_count": 16,
     "metadata": {},
     "output_type": "execute_result"
    }
   ],
   "source": [
    "len(test_features.columns)"
   ]
  },
  {
   "cell_type": "code",
   "execution_count": 17,
   "metadata": {},
   "outputs": [
    {
     "data": {
      "text/plain": [
       "Index(['client_pin', 'count', 'day_tail14__count',\n",
       "       'day_tail14__multi_class_target__card2card_transfer',\n",
       "       'day_tail14__multi_class_target__card_recharge',\n",
       "       'day_tail14__multi_class_target__chat',\n",
       "       'day_tail14__multi_class_target__credit_info',\n",
       "       'day_tail14__multi_class_target__invest',\n",
       "       'day_tail14__multi_class_target__main_screen',\n",
       "       'day_tail14__multi_class_target__mobile_recharge',\n",
       "       ...\n",
       "       'weekday__2', 'weekday__3', 'weekday__4', 'weekday__5', 'weekday__6',\n",
       "       'weekday', 'hour', 'date_i', 'client_session_index',\n",
       "       'session_delta_date'],\n",
       "      dtype='object', length=146)"
      ]
     },
     "execution_count": 17,
     "metadata": {},
     "output_type": "execute_result"
    }
   ],
   "source": [
    "test_features.columns"
   ]
  },
  {
   "cell_type": "code",
   "execution_count": 18,
   "metadata": {},
   "outputs": [],
   "source": [
    "sessions_count = 6"
   ]
  },
  {
   "cell_type": "code",
   "execution_count": 19,
   "metadata": {},
   "outputs": [
    {
     "data": {
      "application/vnd.jupyter.widget-view+json": {
       "model_id": "20e6e5298af44a439004989bdbfb2ef4",
       "version_major": 2,
       "version_minor": 0
      },
      "text/plain": [
       "HBox(children=(FloatProgress(value=0.0, max=6.0), HTML(value='')))"
      ]
     },
     "metadata": {},
     "output_type": "display_data"
    },
    {
     "name": "stdout",
     "output_type": "stream",
     "text": [
      "\n"
     ]
    }
   ],
   "source": [
    "Xy_all = []\n",
    "for i in tqdm(range(sessions_count)):\n",
    "    Xy = no_parquet_features_joblib(n_jobs=N_JOBS, index=i)\n",
    "    Xy_all.append(Xy)"
   ]
  },
  {
   "cell_type": "code",
   "execution_count": 20,
   "metadata": {},
   "outputs": [
    {
     "data": {
      "text/plain": [
       "146"
      ]
     },
     "execution_count": 20,
     "metadata": {},
     "output_type": "execute_result"
    }
   ],
   "source": [
    "# In histograms could be some rare values\n",
    "# They will result in features that are not present in all feature sets, we exclude them \n",
    "common_features = set(test_features.columns).intersection(\n",
    "    *[set(features_.columns) for features_ in Xy_all]\n",
    ")\n",
    "len(common_features)"
   ]
  },
  {
   "cell_type": "code",
   "execution_count": 21,
   "metadata": {
    "scrolled": false
   },
   "outputs": [
    {
     "data": {
      "text/plain": [
       "{'client_pin',\n",
       " 'client_session_index',\n",
       " 'count',\n",
       " 'date_i',\n",
       " 'day_tail14__count',\n",
       " 'day_tail14__multi_class_target__card2card_transfer',\n",
       " 'day_tail14__multi_class_target__card_recharge',\n",
       " 'day_tail14__multi_class_target__chat',\n",
       " 'day_tail14__multi_class_target__credit_info',\n",
       " 'day_tail14__multi_class_target__invest',\n",
       " 'day_tail14__multi_class_target__main_screen',\n",
       " 'day_tail14__multi_class_target__mobile_recharge',\n",
       " 'day_tail14__multi_class_target__own_transfer',\n",
       " 'day_tail14__multi_class_target__phone_money_transfer',\n",
       " 'day_tail14__multi_class_target__statement',\n",
       " 'day_tail1__count',\n",
       " 'day_tail1__multi_class_target__card2card_transfer',\n",
       " 'day_tail1__multi_class_target__card_recharge',\n",
       " 'day_tail1__multi_class_target__chat',\n",
       " 'day_tail1__multi_class_target__credit_info',\n",
       " 'day_tail1__multi_class_target__invest',\n",
       " 'day_tail1__multi_class_target__main_screen',\n",
       " 'day_tail1__multi_class_target__mobile_recharge',\n",
       " 'day_tail1__multi_class_target__own_transfer',\n",
       " 'day_tail1__multi_class_target__phone_money_transfer',\n",
       " 'day_tail1__multi_class_target__statement',\n",
       " 'day_tail28__count',\n",
       " 'day_tail28__multi_class_target__card2card_transfer',\n",
       " 'day_tail28__multi_class_target__card_recharge',\n",
       " 'day_tail28__multi_class_target__chat',\n",
       " 'day_tail28__multi_class_target__credit_info',\n",
       " 'day_tail28__multi_class_target__invest',\n",
       " 'day_tail28__multi_class_target__main_screen',\n",
       " 'day_tail28__multi_class_target__mobile_recharge',\n",
       " 'day_tail28__multi_class_target__own_transfer',\n",
       " 'day_tail28__multi_class_target__phone_money_transfer',\n",
       " 'day_tail28__multi_class_target__statement',\n",
       " 'day_tail7__count',\n",
       " 'day_tail7__multi_class_target__card2card_transfer',\n",
       " 'day_tail7__multi_class_target__card_recharge',\n",
       " 'day_tail7__multi_class_target__chat',\n",
       " 'day_tail7__multi_class_target__credit_info',\n",
       " 'day_tail7__multi_class_target__invest',\n",
       " 'day_tail7__multi_class_target__main_screen',\n",
       " 'day_tail7__multi_class_target__mobile_recharge',\n",
       " 'day_tail7__multi_class_target__own_transfer',\n",
       " 'day_tail7__multi_class_target__phone_money_transfer',\n",
       " 'day_tail7__multi_class_target__statement',\n",
       " 'hour',\n",
       " 'hour__0',\n",
       " 'hour__1',\n",
       " 'hour__10',\n",
       " 'hour__11',\n",
       " 'hour__12',\n",
       " 'hour__13',\n",
       " 'hour__14',\n",
       " 'hour__15',\n",
       " 'hour__16',\n",
       " 'hour__17',\n",
       " 'hour__18',\n",
       " 'hour__19',\n",
       " 'hour__2',\n",
       " 'hour__20',\n",
       " 'hour__21',\n",
       " 'hour__22',\n",
       " 'hour__23',\n",
       " 'hour__3',\n",
       " 'hour__4',\n",
       " 'hour__5',\n",
       " 'hour__6',\n",
       " 'hour__7',\n",
       " 'hour__8',\n",
       " 'hour__9',\n",
       " 'last__date_i__0',\n",
       " 'last__date_i__1',\n",
       " 'last__date_i__2',\n",
       " 'last__multi_class_target__0',\n",
       " 'last__multi_class_target__1',\n",
       " 'last__multi_class_target__10',\n",
       " 'last__multi_class_target__11',\n",
       " 'last__multi_class_target__12',\n",
       " 'last__multi_class_target__13',\n",
       " 'last__multi_class_target__14',\n",
       " 'last__multi_class_target__15',\n",
       " 'last__multi_class_target__16',\n",
       " 'last__multi_class_target__17',\n",
       " 'last__multi_class_target__18',\n",
       " 'last__multi_class_target__19',\n",
       " 'last__multi_class_target__2',\n",
       " 'last__multi_class_target__3',\n",
       " 'last__multi_class_target__4',\n",
       " 'last__multi_class_target__5',\n",
       " 'last__multi_class_target__6',\n",
       " 'last__multi_class_target__7',\n",
       " 'last__multi_class_target__8',\n",
       " 'last__multi_class_target__9',\n",
       " 'last__weekday__0',\n",
       " 'multi_class_target__card2card_transfer',\n",
       " 'multi_class_target__card_recharge',\n",
       " 'multi_class_target__chat',\n",
       " 'multi_class_target__credit_info',\n",
       " 'multi_class_target__invest',\n",
       " 'multi_class_target__main_screen',\n",
       " 'multi_class_target__mobile_recharge',\n",
       " 'multi_class_target__own_transfer',\n",
       " 'multi_class_target__phone_money_transfer',\n",
       " 'multi_class_target__statement',\n",
       " 'session_delta_date',\n",
       " 'tail10__multi_class_target__card2card_transfer',\n",
       " 'tail10__multi_class_target__card_recharge',\n",
       " 'tail10__multi_class_target__chat',\n",
       " 'tail10__multi_class_target__credit_info',\n",
       " 'tail10__multi_class_target__invest',\n",
       " 'tail10__multi_class_target__main_screen',\n",
       " 'tail10__multi_class_target__mobile_recharge',\n",
       " 'tail10__multi_class_target__own_transfer',\n",
       " 'tail10__multi_class_target__phone_money_transfer',\n",
       " 'tail10__multi_class_target__statement',\n",
       " 'tail20__multi_class_target__card2card_transfer',\n",
       " 'tail20__multi_class_target__card_recharge',\n",
       " 'tail20__multi_class_target__chat',\n",
       " 'tail20__multi_class_target__credit_info',\n",
       " 'tail20__multi_class_target__invest',\n",
       " 'tail20__multi_class_target__main_screen',\n",
       " 'tail20__multi_class_target__mobile_recharge',\n",
       " 'tail20__multi_class_target__own_transfer',\n",
       " 'tail20__multi_class_target__phone_money_transfer',\n",
       " 'tail20__multi_class_target__statement',\n",
       " 'tail40__multi_class_target__card2card_transfer',\n",
       " 'tail40__multi_class_target__card_recharge',\n",
       " 'tail40__multi_class_target__chat',\n",
       " 'tail40__multi_class_target__credit_info',\n",
       " 'tail40__multi_class_target__invest',\n",
       " 'tail40__multi_class_target__main_screen',\n",
       " 'tail40__multi_class_target__mobile_recharge',\n",
       " 'tail40__multi_class_target__own_transfer',\n",
       " 'tail40__multi_class_target__phone_money_transfer',\n",
       " 'tail40__multi_class_target__statement',\n",
       " 'weekday',\n",
       " 'weekday__0',\n",
       " 'weekday__1',\n",
       " 'weekday__2',\n",
       " 'weekday__3',\n",
       " 'weekday__4',\n",
       " 'weekday__5',\n",
       " 'weekday__6'}"
      ]
     },
     "execution_count": 21,
     "metadata": {},
     "output_type": "execute_result"
    }
   ],
   "source": [
    "common_features"
   ]
  },
  {
   "cell_type": "markdown",
   "metadata": {},
   "source": [
    "# Dataset preparation"
   ]
  },
  {
   "cell_type": "code",
   "execution_count": 22,
   "metadata": {},
   "outputs": [],
   "source": [
    "Xy = []\n",
    "for Xy_i in Xy_all:\n",
    "    Xy_i = Xy_i[[\n",
    "        c for c in Xy_i.columns \n",
    "        if c in common_features or c in ['multi_class_target', 'client_session_index']\n",
    "    ]]\n",
    "    Xy.append(Xy_i)\n",
    "\n",
    "Xy = pd.concat(Xy, axis=0, ignore_index=True)"
   ]
  },
  {
   "cell_type": "code",
   "execution_count": 23,
   "metadata": {},
   "outputs": [
    {
     "data": {
      "text/plain": [
       "(442071, 147)"
      ]
     },
     "execution_count": 23,
     "metadata": {},
     "output_type": "execute_result"
    }
   ],
   "source": [
    "Xy.shape"
   ]
  },
  {
   "cell_type": "code",
   "execution_count": 24,
   "metadata": {},
   "outputs": [
    {
     "data": {
      "text/plain": [
       "(['last__multi_class_target__0',\n",
       "  'last__multi_class_target__1',\n",
       "  'last__multi_class_target__10',\n",
       "  'last__multi_class_target__11',\n",
       "  'last__multi_class_target__12',\n",
       "  'last__multi_class_target__13',\n",
       "  'last__multi_class_target__14',\n",
       "  'last__multi_class_target__15',\n",
       "  'last__multi_class_target__16',\n",
       "  'last__multi_class_target__17',\n",
       "  'last__multi_class_target__18',\n",
       "  'last__multi_class_target__19',\n",
       "  'last__multi_class_target__2',\n",
       "  'last__multi_class_target__3',\n",
       "  'last__multi_class_target__4',\n",
       "  'last__multi_class_target__5',\n",
       "  'last__multi_class_target__6',\n",
       "  'last__multi_class_target__7',\n",
       "  'last__multi_class_target__8',\n",
       "  'last__multi_class_target__9'],\n",
       " ['count',\n",
       "  'day_tail14__count',\n",
       "  'day_tail14__multi_class_target__card2card_transfer',\n",
       "  'day_tail14__multi_class_target__card_recharge',\n",
       "  'day_tail14__multi_class_target__chat',\n",
       "  'day_tail14__multi_class_target__credit_info',\n",
       "  'day_tail14__multi_class_target__invest',\n",
       "  'day_tail14__multi_class_target__main_screen',\n",
       "  'day_tail14__multi_class_target__mobile_recharge',\n",
       "  'day_tail14__multi_class_target__own_transfer',\n",
       "  'day_tail14__multi_class_target__phone_money_transfer',\n",
       "  'day_tail14__multi_class_target__statement',\n",
       "  'day_tail1__count',\n",
       "  'day_tail1__multi_class_target__card2card_transfer',\n",
       "  'day_tail1__multi_class_target__card_recharge',\n",
       "  'day_tail1__multi_class_target__chat',\n",
       "  'day_tail1__multi_class_target__credit_info',\n",
       "  'day_tail1__multi_class_target__invest',\n",
       "  'day_tail1__multi_class_target__main_screen',\n",
       "  'day_tail1__multi_class_target__mobile_recharge',\n",
       "  'day_tail1__multi_class_target__own_transfer',\n",
       "  'day_tail1__multi_class_target__phone_money_transfer',\n",
       "  'day_tail1__multi_class_target__statement',\n",
       "  'day_tail28__count',\n",
       "  'day_tail28__multi_class_target__card2card_transfer',\n",
       "  'day_tail28__multi_class_target__card_recharge',\n",
       "  'day_tail28__multi_class_target__chat',\n",
       "  'day_tail28__multi_class_target__credit_info',\n",
       "  'day_tail28__multi_class_target__invest',\n",
       "  'day_tail28__multi_class_target__main_screen',\n",
       "  'day_tail28__multi_class_target__mobile_recharge',\n",
       "  'day_tail28__multi_class_target__own_transfer',\n",
       "  'day_tail28__multi_class_target__phone_money_transfer',\n",
       "  'day_tail28__multi_class_target__statement',\n",
       "  'day_tail7__count',\n",
       "  'day_tail7__multi_class_target__card2card_transfer',\n",
       "  'day_tail7__multi_class_target__card_recharge',\n",
       "  'day_tail7__multi_class_target__chat',\n",
       "  'day_tail7__multi_class_target__credit_info',\n",
       "  'day_tail7__multi_class_target__invest',\n",
       "  'day_tail7__multi_class_target__main_screen',\n",
       "  'day_tail7__multi_class_target__mobile_recharge',\n",
       "  'day_tail7__multi_class_target__own_transfer',\n",
       "  'day_tail7__multi_class_target__phone_money_transfer',\n",
       "  'day_tail7__multi_class_target__statement',\n",
       "  'hour__0',\n",
       "  'hour__1',\n",
       "  'hour__10',\n",
       "  'hour__11',\n",
       "  'hour__12',\n",
       "  'hour__13',\n",
       "  'hour__14',\n",
       "  'hour__15',\n",
       "  'hour__16',\n",
       "  'hour__17',\n",
       "  'hour__18',\n",
       "  'hour__19',\n",
       "  'hour__2',\n",
       "  'hour__20',\n",
       "  'hour__21',\n",
       "  'hour__22',\n",
       "  'hour__23',\n",
       "  'hour__3',\n",
       "  'hour__4',\n",
       "  'hour__5',\n",
       "  'hour__6',\n",
       "  'hour__7',\n",
       "  'hour__8',\n",
       "  'hour__9',\n",
       "  'last__date_i__0',\n",
       "  'last__date_i__1',\n",
       "  'last__date_i__2',\n",
       "  'last__multi_class_target__0',\n",
       "  'last__multi_class_target__1',\n",
       "  'last__multi_class_target__10',\n",
       "  'last__multi_class_target__11',\n",
       "  'last__multi_class_target__12',\n",
       "  'last__multi_class_target__13',\n",
       "  'last__multi_class_target__14',\n",
       "  'last__multi_class_target__15',\n",
       "  'last__multi_class_target__16',\n",
       "  'last__multi_class_target__17',\n",
       "  'last__multi_class_target__18',\n",
       "  'last__multi_class_target__19',\n",
       "  'last__multi_class_target__2',\n",
       "  'last__multi_class_target__3',\n",
       "  'last__multi_class_target__4',\n",
       "  'last__multi_class_target__5',\n",
       "  'last__multi_class_target__6',\n",
       "  'last__multi_class_target__7',\n",
       "  'last__multi_class_target__8',\n",
       "  'last__multi_class_target__9',\n",
       "  'last__weekday__0',\n",
       "  'multi_class_target__card2card_transfer',\n",
       "  'multi_class_target__card_recharge',\n",
       "  'multi_class_target__chat',\n",
       "  'multi_class_target__credit_info',\n",
       "  'multi_class_target__invest',\n",
       "  'multi_class_target__main_screen',\n",
       "  'multi_class_target__mobile_recharge',\n",
       "  'multi_class_target__own_transfer',\n",
       "  'multi_class_target__phone_money_transfer',\n",
       "  'multi_class_target__statement',\n",
       "  'tail10__multi_class_target__card2card_transfer',\n",
       "  'tail10__multi_class_target__card_recharge',\n",
       "  'tail10__multi_class_target__chat',\n",
       "  'tail10__multi_class_target__credit_info',\n",
       "  'tail10__multi_class_target__invest',\n",
       "  'tail10__multi_class_target__main_screen',\n",
       "  'tail10__multi_class_target__mobile_recharge',\n",
       "  'tail10__multi_class_target__own_transfer',\n",
       "  'tail10__multi_class_target__phone_money_transfer',\n",
       "  'tail10__multi_class_target__statement',\n",
       "  'tail20__multi_class_target__card2card_transfer',\n",
       "  'tail20__multi_class_target__card_recharge',\n",
       "  'tail20__multi_class_target__chat',\n",
       "  'tail20__multi_class_target__credit_info',\n",
       "  'tail20__multi_class_target__invest',\n",
       "  'tail20__multi_class_target__main_screen',\n",
       "  'tail20__multi_class_target__mobile_recharge',\n",
       "  'tail20__multi_class_target__own_transfer',\n",
       "  'tail20__multi_class_target__phone_money_transfer',\n",
       "  'tail20__multi_class_target__statement',\n",
       "  'tail40__multi_class_target__card2card_transfer',\n",
       "  'tail40__multi_class_target__card_recharge',\n",
       "  'tail40__multi_class_target__chat',\n",
       "  'tail40__multi_class_target__credit_info',\n",
       "  'tail40__multi_class_target__invest',\n",
       "  'tail40__multi_class_target__main_screen',\n",
       "  'tail40__multi_class_target__mobile_recharge',\n",
       "  'tail40__multi_class_target__own_transfer',\n",
       "  'tail40__multi_class_target__phone_money_transfer',\n",
       "  'tail40__multi_class_target__statement',\n",
       "  'weekday__0',\n",
       "  'weekday__1',\n",
       "  'weekday__2',\n",
       "  'weekday__3',\n",
       "  'weekday__4',\n",
       "  'weekday__5',\n",
       "  'weekday__6',\n",
       "  'weekday',\n",
       "  'hour',\n",
       "  'session_delta_date'])"
      ]
     },
     "execution_count": 24,
     "metadata": {},
     "output_type": "execute_result"
    }
   ],
   "source": [
    "target_column = 'multi_class_target'\n",
    "features = [\n",
    "    f for f in Xy.columns \n",
    "    if f not in ['multi_class_target', 'client_session_index', 'client_pin', 'date_i']\n",
    "]\n",
    "categorical = [\n",
    "    f for f in features \n",
    "    if f.startswith('last_')\n",
    "    and not f.startswith('last__date_i__')\n",
    "    and not f.startswith('last__hour__')\n",
    "    and not f.startswith('last__weekday__')\n",
    "]\n",
    "categorical, features"
   ]
  },
  {
   "cell_type": "code",
   "execution_count": 25,
   "metadata": {},
   "outputs": [],
   "source": [
    "train_mask = Xy['client_session_index'] > 0\n",
    "X_train = Xy[train_mask][features].fillna(0)\n",
    "y_train = Xy[train_mask][target_column]\n",
    "X_eval = Xy[~train_mask][features].fillna(0)\n",
    "y_eval = Xy[~train_mask][target_column]"
   ]
  },
  {
   "cell_type": "markdown",
   "metadata": {},
   "source": [
    "# Building model"
   ]
  },
  {
   "cell_type": "code",
   "execution_count": 26,
   "metadata": {},
   "outputs": [],
   "source": [
    "from catboost import CatBoostClassifier\n",
    "\n",
    "params_binary = {\n",
    "    'eval_metric': 'Logloss', \n",
    "    'learning_rate': 0.1,\n",
    "    'iterations': 200,\n",
    "    'random_state': 0,\n",
    "    'max_ctr_complexity': 2,\n",
    "}"
   ]
  },
  {
   "cell_type": "code",
   "execution_count": 27,
   "metadata": {},
   "outputs": [
    {
     "data": {
      "text/plain": [
       "['card2card_transfer',\n",
       " 'card_recharge',\n",
       " 'chat',\n",
       " 'credit_info',\n",
       " 'invest',\n",
       " 'main_screen',\n",
       " 'mobile_recharge',\n",
       " 'own_transfer',\n",
       " 'phone_money_transfer',\n",
       " 'statement']"
      ]
     },
     "execution_count": 27,
     "metadata": {},
     "output_type": "execute_result"
    }
   ],
   "source": [
    "unique_targets = sorted(y_train.value_counts().index)\n",
    "unique_targets"
   ]
  },
  {
   "cell_type": "code",
   "execution_count": 28,
   "metadata": {},
   "outputs": [],
   "source": [
    "def train_models_separate(X_train, y_train, X_eval, y_eval, unique_targets):\n",
    "    models = {}\n",
    "    \n",
    "    for t in tqdm(unique_targets):\n",
    "        features_subset = list(X_train.columns)\n",
    "\n",
    "        y_train_binary = y_train == t\n",
    "        y_eval_binary = y_eval == t\n",
    "\n",
    "        model = CatBoostClassifier(thread_count=N_JOBS, **params_binary)\n",
    "        model.fit(\n",
    "            X_train[features_subset], \n",
    "            y_train_binary,\n",
    "            eval_set=(X_eval[features_subset], y_eval_binary),\n",
    "            cat_features=categorical,\n",
    "            verbose=100,\n",
    "        )\n",
    "        models[t] = model\n",
    "        \n",
    "    return models\n",
    "\n",
    "\n",
    "def predict_separate(models, X, unique_targets):\n",
    "    predictions = []\n",
    "    for t in unique_targets:\n",
    "        model = models[t]\n",
    "        p = model.predict_proba(X)[:, 1]\n",
    "        predictions.append(p)\n",
    "        \n",
    "    predictions = np.column_stack(predictions)\n",
    "    \n",
    "    return predictions\n"
   ]
  },
  {
   "cell_type": "code",
   "execution_count": 29,
   "metadata": {},
   "outputs": [
    {
     "data": {
      "application/vnd.jupyter.widget-view+json": {
       "model_id": "ed001f2e3c1642f397e1ce52fbc0b733",
       "version_major": 2,
       "version_minor": 0
      },
      "text/plain": [
       "HBox(children=(FloatProgress(value=0.0, max=10.0), HTML(value='')))"
      ]
     },
     "metadata": {},
     "output_type": "display_data"
    },
    {
     "name": "stdout",
     "output_type": "stream",
     "text": [
      "0:\tlearn: 0.5315007\ttest: 0.5307566\tbest: 0.5307566 (0)\ttotal: 232ms\tremaining: 46.1s\n",
      "100:\tlearn: 0.1144550\ttest: 0.1126501\tbest: 0.1126501 (100)\ttotal: 15.3s\tremaining: 15s\n",
      "199:\tlearn: 0.1123128\ttest: 0.1125189\tbest: 0.1125123 (198)\ttotal: 29.5s\tremaining: 0us\n",
      "\n",
      "bestTest = 0.1125123067\n",
      "bestIteration = 198\n",
      "\n",
      "Shrink model to first 199 iterations.\n",
      "0:\tlearn: 0.5261377\ttest: 0.5267078\tbest: 0.5267078 (0)\ttotal: 175ms\tremaining: 34.9s\n",
      "100:\tlearn: 0.1103231\ttest: 0.1159296\tbest: 0.1159296 (100)\ttotal: 15.5s\tremaining: 15.2s\n",
      "199:\tlearn: 0.1081999\ttest: 0.1156271\tbest: 0.1156257 (196)\ttotal: 29.6s\tremaining: 0us\n",
      "\n",
      "bestTest = 0.1156256693\n",
      "bestIteration = 196\n",
      "\n",
      "Shrink model to first 197 iterations.\n",
      "0:\tlearn: 0.5558937\ttest: 0.5566408\tbest: 0.5566408 (0)\ttotal: 167ms\tremaining: 33.2s\n",
      "100:\tlearn: 0.1621855\ttest: 0.1676909\tbest: 0.1676772 (97)\ttotal: 15.3s\tremaining: 15s\n",
      "199:\tlearn: 0.1600412\ttest: 0.1675070\tbest: 0.1674456 (173)\ttotal: 29.8s\tremaining: 0us\n",
      "\n",
      "bestTest = 0.1674456317\n",
      "bestIteration = 173\n",
      "\n",
      "Shrink model to first 174 iterations.\n",
      "0:\tlearn: 0.5765897\ttest: 0.5771072\tbest: 0.5771072 (0)\ttotal: 173ms\tremaining: 34.5s\n",
      "100:\tlearn: 0.2309747\ttest: 0.2374208\tbest: 0.2374208 (100)\ttotal: 15.2s\tremaining: 14.9s\n",
      "199:\tlearn: 0.2283493\ttest: 0.2370935\tbest: 0.2370763 (194)\ttotal: 29.3s\tremaining: 0us\n",
      "\n",
      "bestTest = 0.2370763016\n",
      "bestIteration = 194\n",
      "\n",
      "Shrink model to first 195 iterations.\n",
      "0:\tlearn: 0.4797031\ttest: 0.4802332\tbest: 0.4802332 (0)\ttotal: 173ms\tremaining: 34.5s\n",
      "100:\tlearn: 0.0349625\ttest: 0.0409105\tbest: 0.0409064 (98)\ttotal: 14.9s\tremaining: 14.6s\n",
      "199:\tlearn: 0.0338516\ttest: 0.0407749\tbest: 0.0407749 (199)\ttotal: 29.1s\tremaining: 0us\n",
      "\n",
      "bestTest = 0.04077487312\n",
      "bestIteration = 199\n",
      "\n",
      "0:\tlearn: 0.6655206\ttest: 0.6661404\tbest: 0.6661404 (0)\ttotal: 182ms\tremaining: 36.3s\n",
      "100:\tlearn: 0.5374391\ttest: 0.5433373\tbest: 0.5433373 (100)\ttotal: 14.8s\tremaining: 14.6s\n",
      "199:\tlearn: 0.5337207\ttest: 0.5421773\tbest: 0.5421699 (198)\ttotal: 29.1s\tremaining: 0us\n",
      "\n",
      "bestTest = 0.5421698938\n",
      "bestIteration = 198\n",
      "\n",
      "Shrink model to first 199 iterations.\n",
      "0:\tlearn: 0.5406045\ttest: 0.5391600\tbest: 0.5391600 (0)\ttotal: 167ms\tremaining: 33.2s\n",
      "100:\tlearn: 0.1380740\ttest: 0.1345657\tbest: 0.1345657 (100)\ttotal: 15s\tremaining: 14.7s\n",
      "199:\tlearn: 0.1356642\ttest: 0.1342319\tbest: 0.1342030 (185)\ttotal: 29.1s\tremaining: 0us\n",
      "\n",
      "bestTest = 0.1342029577\n",
      "bestIteration = 185\n",
      "\n",
      "Shrink model to first 186 iterations.\n",
      "0:\tlearn: 0.5323492\ttest: 0.5321264\tbest: 0.5321264 (0)\ttotal: 175ms\tremaining: 34.8s\n",
      "100:\tlearn: 0.1158999\ttest: 0.1182629\tbest: 0.1182541 (99)\ttotal: 15s\tremaining: 14.7s\n",
      "199:\tlearn: 0.1138776\ttest: 0.1181450\tbest: 0.1181362 (194)\ttotal: 29.1s\tremaining: 0us\n",
      "\n",
      "bestTest = 0.1181362336\n",
      "bestIteration = 194\n",
      "\n",
      "Shrink model to first 195 iterations.\n",
      "0:\tlearn: 0.5509902\ttest: 0.5523462\tbest: 0.5523462 (0)\ttotal: 170ms\tremaining: 33.9s\n",
      "100:\tlearn: 0.1560815\ttest: 0.1648359\tbest: 0.1648359 (100)\ttotal: 14.4s\tremaining: 14.1s\n",
      "199:\tlearn: 0.1536093\ttest: 0.1646694\tbest: 0.1646349 (175)\ttotal: 27.7s\tremaining: 0us\n",
      "\n",
      "bestTest = 0.1646348542\n",
      "bestIteration = 175\n",
      "\n",
      "Shrink model to first 176 iterations.\n",
      "0:\tlearn: 0.6188811\ttest: 0.6205728\tbest: 0.6205728 (0)\ttotal: 202ms\tremaining: 40.1s\n",
      "100:\tlearn: 0.3536942\ttest: 0.3692307\tbest: 0.3692307 (100)\ttotal: 14s\tremaining: 13.8s\n",
      "199:\tlearn: 0.3505469\ttest: 0.3686224\tbest: 0.3686049 (195)\ttotal: 27.3s\tremaining: 0us\n",
      "\n",
      "bestTest = 0.3686048982\n",
      "bestIteration = 195\n",
      "\n",
      "Shrink model to first 196 iterations.\n",
      "\n"
     ]
    }
   ],
   "source": [
    "models = train_models_separate(X_train, y_train, X_eval, y_eval, unique_targets)"
   ]
  },
  {
   "cell_type": "code",
   "execution_count": 30,
   "metadata": {},
   "outputs": [
    {
     "data": {
      "text/plain": [
       "(77631, 10)"
      ]
     },
     "execution_count": 30,
     "metadata": {},
     "output_type": "execute_result"
    }
   ],
   "source": [
    "predictions_eval_separate = predict_separate(models, X_eval, unique_targets)\n",
    "predictions_eval_separate.shape"
   ]
  },
  {
   "cell_type": "code",
   "execution_count": 31,
   "metadata": {},
   "outputs": [
    {
     "name": "stdout",
     "output_type": "stream",
     "text": [
      "\t51.25458569057098: session_delta_date\n",
      "\t39.47054587887865: count\n",
      "\t39.017878351430255: multi_class_target__own_transfer\n",
      "\t38.70406800870731: multi_class_target__credit_info\n",
      "\t36.09245603673381: multi_class_target__mobile_recharge\n",
      "\t26.738520956895485: multi_class_target__main_screen\n",
      "\t23.666983966564587: multi_class_target__card_recharge\n",
      "\t22.742532306492233: multi_class_target__card2card_transfer\n",
      "\t22.300502194466542: multi_class_target__phone_money_transfer\n",
      "\t22.162914743068782: multi_class_target__statement\n",
      "\t15.709608333068262: tail40__multi_class_target__mobile_recharge\n",
      "\t15.579705340362121: tail10__multi_class_target__main_screen\n",
      "\t14.905400615498145: day_tail1__multi_class_target__main_screen\n",
      "\t14.870408176347116: hour\n",
      "\t14.622719024827548: last__multi_class_target__0\n",
      "\t13.865865381047987: tail40__multi_class_target__card2card_transfer\n",
      "\t13.731302996789811: day_tail28__multi_class_target__credit_info\n",
      "\t13.398898913877648: day_tail1__multi_class_target__chat\n",
      "\t13.223416213118012: tail40__multi_class_target__own_transfer\n",
      "\t13.111874407983796: tail10__multi_class_target__credit_info\n",
      "\t12.713539187978176: multi_class_target__chat\n",
      "\t12.696694235760447: day_tail28__count\n",
      "\t12.417801221026545: tail40__multi_class_target__phone_money_transfer\n",
      "\t12.25384337955508: last__date_i__0\n",
      "\t12.17402773843311: multi_class_target__invest\n",
      "\t12.133411397825977: tail40__multi_class_target__credit_info\n",
      "\t11.556426522353057: tail40__multi_class_target__card_recharge\n",
      "\t10.612297874187504: tail40__multi_class_target__statement\n",
      "\t10.480313824604574: day_tail28__multi_class_target__phone_money_transfer\n",
      "\t9.899226684932263: tail20__multi_class_target__own_transfer\n",
      "\t9.434794031165264: tail20__multi_class_target__credit_info\n",
      "\t8.770532452995711: tail20__multi_class_target__card_recharge\n",
      "\t8.75483303701601: tail20__multi_class_target__statement\n",
      "\t8.683104363748805: tail20__multi_class_target__card2card_transfer\n",
      "\t8.551533214420653: last__date_i__1\n",
      "\t8.535810263492852: day_tail14__multi_class_target__mobile_recharge\n",
      "\t8.502596761461756: last__date_i__2\n",
      "\t8.464094442766696: day_tail28__multi_class_target__main_screen\n",
      "\t8.421803318681752: day_tail1__multi_class_target__statement\n",
      "\t8.405207956258979: day_tail28__multi_class_target__mobile_recharge\n",
      "\t7.734515087191033: tail40__multi_class_target__invest\n",
      "\t7.505706994946758: tail10__multi_class_target__statement\n",
      "\t6.997807443570947: tail20__multi_class_target__main_screen\n",
      "\t6.916558221600991: tail10__multi_class_target__card_recharge\n",
      "\t6.872235953504877: tail20__multi_class_target__chat\n",
      "\t6.803799504018597: day_tail28__multi_class_target__statement\n",
      "\t6.727613468382785: tail10__multi_class_target__phone_money_transfer\n",
      "\t6.583250425375806: day_tail7__multi_class_target__phone_money_transfer\n",
      "\t6.582003861306089: day_tail7__multi_class_target__chat\n",
      "\t6.388681492384248: last__multi_class_target__1\n"
     ]
    }
   ],
   "source": [
    "def separate_models_fi(models):\n",
    "    d = defaultdict(float)\n",
    "    for model in models.values():\n",
    "        for score, f in zip(model.get_feature_importance(), model.feature_names_):\n",
    "            d[f] += score\n",
    "            \n",
    "    for score, f in sorted(d.items(), reverse=True, key=lambda x: x[1])[:50]:\n",
    "        print(f'\\t{f}: {score}')\n",
    "    \n",
    "separate_models_fi(models)"
   ]
  },
  {
   "cell_type": "markdown",
   "metadata": {},
   "source": [
    "# Prediction post-processing"
   ]
  },
  {
   "cell_type": "code",
   "execution_count": 32,
   "metadata": {},
   "outputs": [],
   "source": [
    "from sklearn.metrics import f1_score\n",
    "\n",
    "def get_class(predictions, weights):\n",
    "    return np.array(unique_targets)[(predictions * np.array([weights])).argmax(axis=1)]\n",
    "\n",
    "\n",
    "def calculate_f1_score(predictions, y_eval, weights):\n",
    "    prediction_class = get_class(predictions, weights)\n",
    "    total_f1 = []\n",
    "    for t in unique_targets:\n",
    "        y_eval_binary = y_eval == t\n",
    "        p_binary = prediction_class == t\n",
    "        f1 = f1_score(y_eval_binary, p_binary)\n",
    "        total_f1.append(f1)\n",
    "        \n",
    "    return (np.mean(total_f1), weights)\n",
    "\n",
    "\n",
    "def find_best_weights(predictions, y_eval):\n",
    "    best_weights = np.array([1.0] * len(unique_targets))\n",
    "    best_f1 = 0\n",
    "    for i in tqdm(range(100)):\n",
    "        options = []\n",
    "        for t_index in range(10):\n",
    "            weights = best_weights.copy()\n",
    "            weights[t_index] += 0.2\n",
    "            options.append(weights)\n",
    "        \n",
    "        alternatives = joblib.Parallel(n_jobs=len(options))(\n",
    "            joblib.delayed(calculate_f1_score)                                                \n",
    "            (predictions, y_eval, weights)\n",
    "            for weights in options\n",
    "        )\n",
    "    \n",
    "        f1, best_weights = max(alternatives)\n",
    "        if f1 <= best_f1:\n",
    "            break\n",
    "        best_f1 = f1\n",
    "        \n",
    "    return best_weights, f1"
   ]
  },
  {
   "cell_type": "code",
   "execution_count": 33,
   "metadata": {},
   "outputs": [
    {
     "data": {
      "application/vnd.jupyter.widget-view+json": {
       "model_id": "cae68a9210eb40a6b4f1ce851e657a59",
       "version_major": 2,
       "version_minor": 0
      },
      "text/plain": [
       "HBox(children=(FloatProgress(value=0.0), HTML(value='')))"
      ]
     },
     "metadata": {},
     "output_type": "display_data"
    },
    {
     "name": "stdout",
     "output_type": "stream",
     "text": [
      "\n"
     ]
    },
    {
     "data": {
      "text/plain": [
       "0.42081715963307154"
      ]
     },
     "execution_count": 33,
     "metadata": {},
     "output_type": "execute_result"
    }
   ],
   "source": [
    "best_weights_separate, f1 = find_best_weights(predictions_eval_separate, y_eval)\n",
    "f1"
   ]
  },
  {
   "cell_type": "code",
   "execution_count": 34,
   "metadata": {},
   "outputs": [
    {
     "data": {
      "text/plain": [
       "[('card2card_transfer', 2.4),\n",
       " ('card_recharge', 1.7999999999999998),\n",
       " ('chat', 2.6),\n",
       " ('credit_info', 1.2),\n",
       " ('invest', 1.2),\n",
       " ('main_screen', 1.0),\n",
       " ('mobile_recharge', 2.8000000000000003),\n",
       " ('own_transfer', 1.5999999999999999),\n",
       " ('phone_money_transfer', 2.1999999999999997),\n",
       " ('statement', 1.5999999999999999)]"
      ]
     },
     "execution_count": 34,
     "metadata": {},
     "output_type": "execute_result"
    }
   ],
   "source": [
    "list(zip(unique_targets, best_weights_separate))"
   ]
  },
  {
   "cell_type": "code",
   "execution_count": 35,
   "metadata": {},
   "outputs": [
    {
     "name": "stdout",
     "output_type": "stream",
     "text": [
      "0.304\tcard2card_transfer\n",
      "0.396\tcard_recharge\n",
      "0.314\tchat\n",
      "0.599\tcredit_info\n",
      "0.390\tinvest\n",
      "0.679\tmain_screen\n",
      "0.335\tmobile_recharge\n",
      "0.430\town_transfer\n",
      "0.315\tphone_money_transfer\n",
      "0.446\tstatement\n",
      "0.421\tf1_total\n"
     ]
    }
   ],
   "source": [
    "prediction_class = get_class(predictions_eval_separate, best_weights_separate)\n",
    "total_f1 = []\n",
    "for t in unique_targets:\n",
    "    y_eval_binary = y_eval == t\n",
    "    p_binary = prediction_class == t\n",
    "    f1 = f1_score(y_eval_binary, p_binary)\n",
    "    print(f'{f1:.3f}\\t{t}')\n",
    "    total_f1.append(f1)\n",
    "    \n",
    "print(f'{np.mean(total_f1):.3f}\\tf1_total')"
   ]
  },
  {
   "cell_type": "markdown",
   "metadata": {},
   "source": [
    "# Submission generation"
   ]
  },
  {
   "cell_type": "code",
   "execution_count": 36,
   "metadata": {},
   "outputs": [
    {
     "name": "stdout",
     "output_type": "stream",
     "text": [
      "CPU times: user 16.9 s, sys: 3.42 s, total: 20.4 s\n",
      "Wall time: 7.62 s\n"
     ]
    }
   ],
   "source": [
    "%%time\n",
    "\n",
    "predictions_test_separate = predict_separate(models, test_features[features].fillna(0), unique_targets)"
   ]
  },
  {
   "cell_type": "code",
   "execution_count": 37,
   "metadata": {},
   "outputs": [],
   "source": [
    "def make_submit(predictions, test_features, best_weights, target_column):\n",
    "    submission = test_features.copy()\n",
    "    submission[target_column] = get_class(predictions, best_weights)\n",
    "    submission = submission.reset_index()[['client_pin', target_column]]\n",
    "    print(submission[target_column].value_counts())\n",
    "    \n",
    "    return submission"
   ]
  },
  {
   "cell_type": "code",
   "execution_count": 38,
   "metadata": {},
   "outputs": [
    {
     "name": "stdout",
     "output_type": "stream",
     "text": [
      "main_screen             35077\n",
      "statement               12365\n",
      "credit_info             11701\n",
      "mobile_recharge          3891\n",
      "phone_money_transfer     3626\n",
      "chat                     3534\n",
      "card_recharge            3377\n",
      "own_transfer             3126\n",
      "card2card_transfer       2219\n",
      "invest                    352\n",
      "Name: multi_class_target, dtype: int64\n"
     ]
    }
   ],
   "source": [
    "submission_separate = make_submit(predictions_test_separate, test_features, best_weights_separate, target_column)"
   ]
  },
  {
   "cell_type": "code",
   "execution_count": 39,
   "metadata": {},
   "outputs": [],
   "source": [
    "submission_separate.to_csv(\n",
    "    'submissions/submission_no_parquet.csv.gz', \n",
    "    compression='infer',\n",
    "    index=False,\n",
    ")"
   ]
  },
  {
   "cell_type": "code",
   "execution_count": 40,
   "metadata": {},
   "outputs": [
    {
     "name": "stdout",
     "output_type": "stream",
     "text": [
      "Time elapsed (hh:mm:ss.ms) 0:11:35.044488\n"
     ]
    }
   ],
   "source": [
    "print('Time elapsed (hh:mm:ss.ms) {}'.format(datetime.now() - start_time))"
   ]
  },
  {
   "cell_type": "code",
   "execution_count": null,
   "metadata": {},
   "outputs": [],
   "source": []
  }
 ],
 "metadata": {
  "kernelspec": {
   "display_name": "Python 3",
   "language": "python",
   "name": "python3"
  },
  "language_info": {
   "codemirror_mode": {
    "name": "ipython",
    "version": 3
   },
   "file_extension": ".py",
   "mimetype": "text/x-python",
   "name": "python",
   "nbconvert_exporter": "python",
   "pygments_lexer": "ipython3",
   "version": "3.6.8"
  }
 },
 "nbformat": 4,
 "nbformat_minor": 2
}
